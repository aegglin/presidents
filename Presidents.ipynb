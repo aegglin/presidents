{
 "cells": [
  {
   "cell_type": "code",
   "execution_count": 1,
   "metadata": {},
   "outputs": [],
   "source": [
    "import requests"
   ]
  },
  {
   "cell_type": "code",
   "execution_count": 75,
   "metadata": {},
   "outputs": [],
   "source": [
    "#election_years = range(1788,2024,4)\n",
    "election_years = [1788]\n",
    "#election_years = [1788, 1792, 1796]"
   ]
  },
  {
   "cell_type": "code",
   "execution_count": 78,
   "metadata": {},
   "outputs": [],
   "source": [
    "def get_election_info(year):\n",
    "    params = {\n",
    "        \"action\":\"parse\",\n",
    "        \"page\": str(year) + \" United States presidential election\",\n",
    "        \"prop\": \"wikitext\",\n",
    "        \"section\": 0,\n",
    "        \"format\": \"json\",\n",
    "    }\n",
    "    \n",
    "    url = \"https://en.wikipedia.org/w/api.php\"\n",
    "    \n",
    "    if year == 1788:\n",
    "        year = str(year) + \"-89\"\n",
    "        url += \"?\"\n",
    "        for label, param in params.items():\n",
    "            url += (label + \"=\" + str(param).replace(\" \", \"+\") + \"&\")\n",
    "        url += \"redirects\"\n",
    "        resp = requests.get(url)\n",
    "    else:\n",
    "        resp = requests.get(url, params=params)\n",
    "        \n",
    "    data = resp.json()\n",
    "    wikitext=data['parse']['wikitext']['*']\n",
    "    start_ind = wikitext.find('Infobox election')\n",
    "    end_ind = wikitext.find('map')\n",
    "    wikitext = wikitext[start_ind:end_ind]\n",
    "    \n",
    "    wikitext = wikitext.replace('[[', '').replace(']]', '').replace('\\'\\'\\'', '').replace(\"<!--\", \"\").replace(\"-->\", \"\")\n",
    "    nominee_num = 1\n",
    "    lines = wikitext.split('\\n|')\n",
    "\n",
    "    print(wikitext)\n",
    "    \n",
    "    #list of dictionaries\n",
    "    nominees = [] #list of nominees\n",
    "    nominees_dict = {} #nominee info\n",
    "    \n",
    "    for line in lines: \n",
    "        line = line.strip()\n",
    "        if line.startswith('turnout'):\n",
    "            turnout_str = line.split('=')[1].split('%')[0].strip()\n",
    "            if turnout_str.find('\\n') > 0:\n",
    "                turnout = turnout_str.split('\\n')[1]\n",
    "            else:\n",
    "                turnout = turnout_str\n",
    "            nominees_dict['turnout'] = turnout\n",
    "        elif line.startswith('needed_votes'):\n",
    "            needed_votes = line.split('=')[1][1:]\n",
    "            nominees_dict['needed_votes'] = needed_votes\n",
    "        elif line.startswith('nominee'):\n",
    "            nominee = line.split('=')[1].split('\\n')[0].strip()\n",
    "            nominees_dict['nominee']=nominee\n",
    "        elif line.startswith('party'):\n",
    "            party_str = line.split('=')[1][1:]\n",
    "            party = party_str.split(\"(\")[0].strip()\n",
    "            nominees_dict['party']=party\n",
    "        elif line.startswith('running_mate'):\n",
    "            running_mate = line.split('=')[1][1:].strip()\n",
    "            nominees_dict['running_mate']=running_mate\n",
    "        elif line.startswith('home_state'):\n",
    "            home_state_str = line.split('=')[1][1:]\n",
    "            home_state = home_state_str.split(\"(\")[0].split(\"{{\")[0].strip()\n",
    "            nominees_dict['home_state']=home_state\n",
    "        elif line.startswith('electoral_vote'):\n",
    "            electoral_vote_str = line.split('=')[1][1:]\n",
    "            electoral_vote = electoral_vote_str.split(\"{{\")[0].strip()\n",
    "            nominees_dict['electoral_vote']=electoral_vote\n",
    "        elif line.startswith('states_carried'):\n",
    "            states_carried_str = line.split('=')[1][1:]\n",
    "            states_carried = states_carried_str.split(\"+\")[0].strip()\n",
    "            nominees_dict['states_carried']=states_carried\n",
    "        elif line.startswith('popular_vote'):\n",
    "            popular_vote_str = line.split('=')[1].split(\"<\")[0]\n",
    "            popular_vote = popular_vote_str.split(\"{{\")[0].strip()\n",
    "            nominees_dict['popular_vote']=popular_vote\n",
    "        elif line.startswith('percentage'):\n",
    "            percentage_line_str = line.split('=')[1]\n",
    "            percentage_line = percentage_line_str.split(\"%\")[0].strip()\n",
    "            if percentage_line.startswith(\"{{\"):\n",
    "                percentage_lineparts = percentage_line.split('|')\n",
    "                total = percentage_lineparts[2].replace(\"TOTAL:\", \"\").replace(\",\", \"\").strip()\n",
    "                popular_vote = nominees_dict['popular_vote'].replace(\",\", \"\")\n",
    "                percentage = str(round((float(popular_vote) / float(total)) * 100, 1))\n",
    "            else:\n",
    "                percentage = percentage_line\n",
    "        \n",
    "            nominees_dict['percentage'] = percentage\n",
    "    \n",
    "            #Reset the dictionary because percentage is the last field\n",
    "            nominees.append(nominees_dict)\n",
    "            turnout = nominees_dict['turnout']\n",
    "            needed_votes = nominees_dict['needed_votes']\n",
    "            nominees_dict = {}\n",
    "            nominees_dict['turnout']=turnout\n",
    "            nominees_dict['needed_votes']=needed_votes\n",
    "    return nominees"
   ]
  },
  {
   "cell_type": "code",
   "execution_count": 79,
   "metadata": {},
   "outputs": [
    {
     "name": "stdout",
     "output_type": "stream",
     "text": [
      "Infobox election\n",
      "| election_name = 1788–89 United States presidential election\n",
      "| country = United States\n",
      "| flag_year = 1777\n",
      "| type = presidential\n",
      "| ongoing = no\n",
      "| previous_election = \n",
      "| next_election = 1792 United States presidential election\n",
      "| next_year = 1792\n",
      "| votes_for_election = 69 members of the United States Electoral College|Electoral College\n",
      "| needed_votes = at least 35 electoral\n",
      "| turnout = 11.6%<ref>{{cite web|url=http://www.electproject.org/national-1789-present|title=National General Election VEP Turnout Rates, 1789-Present|work=United States Election Project|publisher=CQ Press}}</ref>\n",
      "| election_date = {{start and end dates|1788|12|15|1789|1|10}}\n",
      "| image1 = Gilbert Stuart Williamstown Portrait of George Washington.jpg\n",
      "| nominee1 = George Washington\n",
      "| party1 = Independent (United States)\n",
      "| home_state1 = Virginia\n",
      "| electoral_vote1 = 69\n",
      "| states_carried1 = 10\n",
      "| \n"
     ]
    },
    {
     "data": {
      "text/plain": [
       "{1788: []}"
      ]
     },
     "execution_count": 79,
     "metadata": {},
     "output_type": "execute_result"
    }
   ],
   "source": [
    "election_info = {year:get_election_info(year) for year in election_years}\n",
    "election_info"
   ]
  },
  {
   "cell_type": "code",
   "execution_count": 12,
   "metadata": {},
   "outputs": [
    {
     "data": {
      "text/plain": [
       "'ab'"
      ]
     },
     "execution_count": 12,
     "metadata": {},
     "output_type": "execute_result"
    }
   ],
   "source": []
  },
  {
   "cell_type": "code",
   "execution_count": null,
   "metadata": {},
   "outputs": [],
   "source": []
  }
 ],
 "metadata": {
  "kernelspec": {
   "display_name": "Python 3",
   "language": "python",
   "name": "python3"
  },
  "language_info": {
   "codemirror_mode": {
    "name": "ipython",
    "version": 3
   },
   "file_extension": ".py",
   "mimetype": "text/x-python",
   "name": "python",
   "nbconvert_exporter": "python",
   "pygments_lexer": "ipython3",
   "version": "3.8.5"
  }
 },
 "nbformat": 4,
 "nbformat_minor": 4
}
